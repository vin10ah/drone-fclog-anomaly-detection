{
 "cells": [
  {
   "cell_type": "code",
   "execution_count": 4,
   "id": "5e299418",
   "metadata": {},
   "outputs": [],
   "source": [
    "import numpy as np\n",
    "import pandas as pd\n",
    "import glob\n",
    "import os"
   ]
  },
  {
   "cell_type": "code",
   "execution_count": 2,
   "id": "909b6a6c",
   "metadata": {},
   "outputs": [],
   "source": [
    "paths = sorted(glob.glob(\"../0.data/results/*.csv\"))"
   ]
  },
  {
   "cell_type": "code",
   "execution_count": 3,
   "id": "e1a9b2c4",
   "metadata": {},
   "outputs": [
    {
     "data": {
      "text/plain": [
       "40"
      ]
     },
     "execution_count": 3,
     "metadata": {},
     "output_type": "execute_result"
    }
   ],
   "source": [
    "len(paths)"
   ]
  },
  {
   "cell_type": "code",
   "execution_count": 10,
   "id": "5e50d8cc",
   "metadata": {},
   "outputs": [],
   "source": [
    "# 같은 피처를 가진 필드 정리\n",
    "feature_dict = {}\n",
    "\n",
    "for path in paths:\n",
    "    df = pd.read_csv(path).drop(['label', 'timestamp', 'TimeUS'], axis=1)\n",
    "    msg = os.path.basename(path).split(\"_\")[0]\n",
    "    for col in df.columns:\n",
    "        if col in feature_dict:\n",
    "            feature_dict[col].append(msg)\n",
    "        else:\n",
    "            feature_dict[col] = [msg]\n",
    "\n",
    "# 유일한 feature 목록은 삭제제\n",
    "for k in list(feature_dict.keys()):\n",
    "    if len(feature_dict[k]) == 1:\n",
    "        del feature_dict[k]\n"
   ]
  },
  {
   "cell_type": "code",
   "execution_count": 11,
   "id": "fcbce691",
   "metadata": {},
   "outputs": [
    {
     "data": {
      "text/html": [
       "<div>\n",
       "<style scoped>\n",
       "    .dataframe tbody tr th:only-of-type {\n",
       "        vertical-align: middle;\n",
       "    }\n",
       "\n",
       "    .dataframe tbody tr th {\n",
       "        vertical-align: top;\n",
       "    }\n",
       "\n",
       "    .dataframe thead th {\n",
       "        text-align: right;\n",
       "    }\n",
       "</style>\n",
       "<table border=\"1\" class=\"dataframe\">\n",
       "  <thead>\n",
       "    <tr style=\"text-align: right;\">\n",
       "      <th></th>\n",
       "      <th>msg_field</th>\n",
       "      <th>feature</th>\n",
       "      <th>rows</th>\n",
       "      <th>cols</th>\n",
       "      <th>missing</th>\n",
       "      <th>min</th>\n",
       "      <th>max</th>\n",
       "      <th>mean</th>\n",
       "      <th>var</th>\n",
       "      <th>non_zero_rate</th>\n",
       "      <th>unique_count</th>\n",
       "    </tr>\n",
       "  </thead>\n",
       "  <tbody>\n",
       "    <tr>\n",
       "      <th>0</th>\n",
       "      <td>AHR2</td>\n",
       "      <td>Roll</td>\n",
       "      <td>125971</td>\n",
       "      <td>11</td>\n",
       "      <td>False</td>\n",
       "      <td>-4.61000</td>\n",
       "      <td>3.070000</td>\n",
       "      <td>0.246620</td>\n",
       "      <td>9.323946e-01</td>\n",
       "      <td>0.995213</td>\n",
       "      <td>627</td>\n",
       "    </tr>\n",
       "    <tr>\n",
       "      <th>1</th>\n",
       "      <td>AHR2</td>\n",
       "      <td>Pitch</td>\n",
       "      <td>125971</td>\n",
       "      <td>11</td>\n",
       "      <td>False</td>\n",
       "      <td>-4.44000</td>\n",
       "      <td>6.960000</td>\n",
       "      <td>0.390088</td>\n",
       "      <td>6.132344e-01</td>\n",
       "      <td>0.990045</td>\n",
       "      <td>776</td>\n",
       "    </tr>\n",
       "    <tr>\n",
       "      <th>2</th>\n",
       "      <td>AHR2</td>\n",
       "      <td>Yaw</td>\n",
       "      <td>125971</td>\n",
       "      <td>11</td>\n",
       "      <td>False</td>\n",
       "      <td>71.43000</td>\n",
       "      <td>255.060000</td>\n",
       "      <td>117.313446</td>\n",
       "      <td>4.220584e+03</td>\n",
       "      <td>1.000000</td>\n",
       "      <td>4025</td>\n",
       "    </tr>\n",
       "    <tr>\n",
       "      <th>3</th>\n",
       "      <td>AHR2</td>\n",
       "      <td>Alt</td>\n",
       "      <td>125971</td>\n",
       "      <td>11</td>\n",
       "      <td>False</td>\n",
       "      <td>47.48000</td>\n",
       "      <td>80.299995</td>\n",
       "      <td>65.645018</td>\n",
       "      <td>6.839459e+01</td>\n",
       "      <td>1.000000</td>\n",
       "      <td>2962</td>\n",
       "    </tr>\n",
       "    <tr>\n",
       "      <th>4</th>\n",
       "      <td>AHR2</td>\n",
       "      <td>Lat</td>\n",
       "      <td>125971</td>\n",
       "      <td>11</td>\n",
       "      <td>False</td>\n",
       "      <td>35.92819</td>\n",
       "      <td>35.928328</td>\n",
       "      <td>35.928282</td>\n",
       "      <td>8.570000e-10</td>\n",
       "      <td>1.000000</td>\n",
       "      <td>1040</td>\n",
       "    </tr>\n",
       "  </tbody>\n",
       "</table>\n",
       "</div>"
      ],
      "text/plain": [
       "  msg_field feature    rows  cols  missing       min         max        mean  \\\n",
       "0      AHR2    Roll  125971    11    False  -4.61000    3.070000    0.246620   \n",
       "1      AHR2   Pitch  125971    11    False  -4.44000    6.960000    0.390088   \n",
       "2      AHR2     Yaw  125971    11    False  71.43000  255.060000  117.313446   \n",
       "3      AHR2     Alt  125971    11    False  47.48000   80.299995   65.645018   \n",
       "4      AHR2     Lat  125971    11    False  35.92819   35.928328   35.928282   \n",
       "\n",
       "            var  non_zero_rate  unique_count  \n",
       "0  9.323946e-01       0.995213           627  \n",
       "1  6.132344e-01       0.990045           776  \n",
       "2  4.220584e+03       1.000000          4025  \n",
       "3  6.839459e+01       1.000000          2962  \n",
       "4  8.570000e-10       1.000000          1040  "
      ]
     },
     "execution_count": 11,
     "metadata": {},
     "output_type": "execute_result"
    }
   ],
   "source": [
    "inform_df = pd.read_csv(\"./log_inform_summary.csv\")\n",
    "inform_df.head()"
   ]
  },
  {
   "cell_type": "code",
   "execution_count": null,
   "id": "de386340",
   "metadata": {},
   "outputs": [
    {
     "name": "stdout",
     "output_type": "stream",
     "text": [
      "Roll\n"
     ]
    }
   ],
   "source": [
    "for f, msgs in feature_dict.items():\n",
    "\n",
    "    for msg in msgs:\n",
    "        inform_df.loc[inform_df[\"msg_field\"] == msg & inform_df[\"feature\"] == f]"
   ]
  },
  {
   "cell_type": "code",
   "execution_count": 13,
   "id": "35debed8",
   "metadata": {},
   "outputs": [],
   "source": [
    "import pandas as pd\n",
    "\n",
    "same_feature_rows = []\n",
    "\n",
    "for feature, msgs in feature_dict.items():\n",
    "    for msg in msgs:\n",
    "        row = inform_df[(inform_df[\"msg_field\"] == msg) & (inform_df[\"feature\"] == feature)]\n",
    "        if not row.empty:\n",
    "            same_feature_rows.append(row)\n",
    "\n",
    "same_feature_df = pd.concat(same_feature_rows, ignore_index=True)\n",
    "\n",
    "# ✅ 컬럼 순서: feature와 msg_field 위치 바꾸기\n",
    "columns = same_feature_df.columns.tolist()\n",
    "if \"feature\" in columns and \"msg_field\" in columns:\n",
    "    columns.remove(\"feature\")\n",
    "    columns.remove(\"msg_field\")\n",
    "    new_order = [\"feature\", \"msg_field\"] + columns\n",
    "    same_feature_df = same_feature_df[new_order]\n",
    "\n",
    "# 저장\n",
    "same_feature_df.to_csv(\"same_feature_summary.csv\", index=False)\n"
   ]
  },
  {
   "cell_type": "code",
   "execution_count": null,
   "id": "701174b5",
   "metadata": {},
   "outputs": [],
   "source": []
  },
  {
   "cell_type": "code",
   "execution_count": null,
   "id": "5f6ce3aa",
   "metadata": {},
   "outputs": [],
   "source": []
  },
  {
   "cell_type": "code",
   "execution_count": 37,
   "id": "ed7d5eb2",
   "metadata": {},
   "outputs": [
    {
     "name": "stderr",
     "output_type": "stream",
     "text": [
      "/tmp/ipykernel_3131750/2899557256.py:25: UserWarning: Glyph 45800 (\\N{HANGUL SYLLABLE DAN}) missing from current font.\n",
      "  plt.savefig(os.path.join(output_dir, f\"{feature}_comparison.png\"))\n",
      "/tmp/ipykernel_3131750/2899557256.py:25: UserWarning: Glyph 49692 (\\N{HANGUL SYLLABLE SUN}) missing from current font.\n",
      "  plt.savefig(os.path.join(output_dir, f\"{feature}_comparison.png\"))\n",
      "/tmp/ipykernel_3131750/2899557256.py:25: UserWarning: Glyph 48708 (\\N{HANGUL SYLLABLE BI}) missing from current font.\n",
      "  plt.savefig(os.path.join(output_dir, f\"{feature}_comparison.png\"))\n",
      "/tmp/ipykernel_3131750/2899557256.py:25: UserWarning: Glyph 44368 (\\N{HANGUL SYLLABLE GYO}) missing from current font.\n",
      "  plt.savefig(os.path.join(output_dir, f\"{feature}_comparison.png\"))\n",
      "/tmp/ipykernel_3131750/2899557256.py:25: UserWarning: Glyph 44536 (\\N{HANGUL SYLLABLE GEU}) missing from current font.\n",
      "  plt.savefig(os.path.join(output_dir, f\"{feature}_comparison.png\"))\n",
      "/tmp/ipykernel_3131750/2899557256.py:25: UserWarning: Glyph 47000 (\\N{HANGUL SYLLABLE RAE}) missing from current font.\n",
      "  plt.savefig(os.path.join(output_dir, f\"{feature}_comparison.png\"))\n",
      "/tmp/ipykernel_3131750/2899557256.py:25: UserWarning: Glyph 54532 (\\N{HANGUL SYLLABLE PEU}) missing from current font.\n",
      "  plt.savefig(os.path.join(output_dir, f\"{feature}_comparison.png\"))\n"
     ]
    }
   ],
   "source": [
    "import pandas as pd\n",
    "import matplotlib.pyplot as plt\n",
    "import os\n",
    "\n",
    "data_dir = '../0.data/results'  # CSV 파일 경로\n",
    "output_dir = './results/feature_plots/'  # 그래프 저장 폴더\n",
    "os.makedirs(output_dir, exist_ok=True)\n",
    "\n",
    "for feature, msgs in feature_dict.items():\n",
    "    plt.figure(figsize=(12, 6))\n",
    "\n",
    "    for msg in msgs:\n",
    "        path = os.path.join(data_dir, f\"{msg}_merged.csv\")\n",
    "        try:\n",
    "            df = pd.read_csv(path)\n",
    "            if 'timestamp' in df.columns and feature in df.columns:\n",
    "                plt.plot(df['timestamp'], df[feature], label=msg)\n",
    "        except Exception as e:\n",
    "            print(f\"{msg} 파일 처리 중 오류: {e}\")\n",
    "\n",
    "    plt.title(f\"{feature} - 단순 비교 그래프\")\n",
    "    plt.xlabel('Timestamp')\n",
    "    plt.ylabel(feature)\n",
    "    plt.legend()\n",
    "    plt.savefig(os.path.join(output_dir, f\"{feature}_comparison.png\"))\n",
    "    plt.close()\n",
    "    break\n",
    "\n",
    "        "
   ]
  },
  {
   "cell_type": "code",
   "execution_count": null,
   "id": "c8531634",
   "metadata": {},
   "outputs": [],
   "source": []
  }
 ],
 "metadata": {
  "kernelspec": {
   "display_name": "drone",
   "language": "python",
   "name": "python3"
  },
  "language_info": {
   "codemirror_mode": {
    "name": "ipython",
    "version": 3
   },
   "file_extension": ".py",
   "mimetype": "text/x-python",
   "name": "python",
   "nbconvert_exporter": "python",
   "pygments_lexer": "ipython3",
   "version": "3.11.11"
  }
 },
 "nbformat": 4,
 "nbformat_minor": 5
}
