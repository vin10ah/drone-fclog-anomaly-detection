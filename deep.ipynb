{
 "cells": [
  {
   "cell_type": "code",
   "execution_count": 3,
   "id": "ae322b2d",
   "metadata": {},
   "outputs": [],
   "source": [
    "import pandas as pd\n",
    "import numpy as np"
   ]
  },
  {
   "cell_type": "code",
   "execution_count": null,
   "id": "c1f56de7",
   "metadata": {},
   "outputs": [],
   "source": [
    "from sklearn.model_selection import train_test_split\n",
    "from sklearn.preprocessing import StandardScaler\n",
    "from sklearn.ensemble import RandomForestClassifier\n",
    "from sklearn.linear_model import LogisticRegression\n",
    "import torch\n",
    "import torch.nn as nn\n",
    "from torch.utils.data import Dataset, DataLoader\n",
    "\n",
    "\n",
    "class MyDataset(Dataset):\n",
    "    def __init__(self, X, y):\n",
    "        self.X = X\n",
    "        self.y = y\n",
    "\n",
    "    def __len__(self):\n",
    "        return len(self.x)\n",
    "    \n",
    "    def __getitem__(self, idx):\n",
    "        return self.x[idx], self.y[idx]\n",
    "    \n",
    "\n",
    "\n",
    "class BinaryClsModel(nn.Module):\n",
    "    def __init__(self):\n",
    "        super(BinaryClsModel, self).__init__()\n",
    "        self.linear_1 = nn.Linear()\n",
    "        self.sigmoid = nn.sigmoid()"
   ]
  },
  {
   "cell_type": "code",
   "execution_count": null,
   "id": "17f80cc9",
   "metadata": {},
   "outputs": [],
   "source": []
  },
  {
   "cell_type": "code",
   "execution_count": null,
   "id": "f4236b12",
   "metadata": {},
   "outputs": [],
   "source": [
    "import glob\n",
    "\n",
    "msg_paths = glob.glob(\"../data/results/*.csv\")\n",
    "\n",
    "for msg in msg_paths:\n",
    "\n",
    "    df = pd.read_csv(msg)\n",
    "    df = df.drop(columns=['timestamp', 'TimeUS'], errors='ignore')\n",
    "\n",
    "    X = df.drop(columns=['label']).values.astype(np.float32)\n",
    "    y = df['label'].values.astype(np.int64)\n",
    "\n",
    "    X_train, X_test, y_train, y_test = train_test_split(X, y, test_size=0.4, random_state=42)\n",
    "    X_val, X_tst, y_val, y_tst = train_test_split(X_test, y_test, test_size=0.5, random_state=42)\n",
    "\n",
    "    scaler = StandardScaler()\n",
    "    scaled_x_trn = scaler.fit_transform(X_train)\n",
    "    scaled_x_val = scaler.transform(X_val)\n",
    "    scaled_x_tst = scaler.transform(X_tst)\n",
    "\n",
    "    \n",
    "\n"
   ]
  },
  {
   "cell_type": "code",
   "execution_count": null,
   "id": "2bed0ad7",
   "metadata": {},
   "outputs": [],
   "source": []
  },
  {
   "cell_type": "code",
   "execution_count": 2,
   "id": "d998170f",
   "metadata": {},
   "outputs": [
    {
     "data": {
      "text/plain": [
       "['../data/results/AHR2_merged.csv',\n",
       " '../data/results/FTN2_merged.csv',\n",
       " '../data/results/GPS_merged.csv',\n",
       " '../data/results/DSF_merged.csv',\n",
       " '../data/results/FTN1_merged.csv',\n",
       " '../data/results/PM_merged.csv',\n",
       " '../data/results/IOMC_merged.csv',\n",
       " '../data/results/MOTB_merged.csv',\n",
       " '../data/results/MCU_merged.csv',\n",
       " '../data/results/IMU_merged.csv',\n",
       " '../data/results/DCM_merged.csv',\n",
       " '../data/results/MAVC_merged.csv',\n",
       " '../data/results/MAV_merged.csv',\n",
       " '../data/results/DU32_merged.csv',\n",
       " '../data/results/CTUN_merged.csv',\n",
       " '../data/results/ATT_merged.csv',\n",
       " '../data/results/HEAT_merged.csv',\n",
       " '../data/results/MAG_merged.csv',\n",
       " '../data/results/CANS_merged.csv',\n",
       " '../data/results/BARO_merged.csv',\n",
       " '../data/results/BAT_merged.csv',\n",
       " '../data/results/CTRL_merged.csv',\n",
       " '../data/results/GPA_merged.csv']"
      ]
     },
     "execution_count": 2,
     "metadata": {},
     "output_type": "execute_result"
    }
   ],
   "source": [
    "msg_paths"
   ]
  },
  {
   "cell_type": "code",
   "execution_count": null,
   "id": "04481f39",
   "metadata": {},
   "outputs": [],
   "source": []
  }
 ],
 "metadata": {
  "kernelspec": {
   "display_name": "drone",
   "language": "python",
   "name": "python3"
  },
  "language_info": {
   "codemirror_mode": {
    "name": "ipython",
    "version": 3
   },
   "file_extension": ".py",
   "mimetype": "text/x-python",
   "name": "python",
   "nbconvert_exporter": "python",
   "pygments_lexer": "ipython3",
   "version": "3.11.11"
  }
 },
 "nbformat": 4,
 "nbformat_minor": 5
}
