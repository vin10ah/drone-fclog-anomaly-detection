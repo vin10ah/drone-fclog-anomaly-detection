{
 "cells": [
  {
   "cell_type": "markdown",
   "id": "d9e5d7a1",
   "metadata": {},
   "source": [
    "## 오차 컬럼 추가하기"
   ]
  },
  {
   "cell_type": "code",
   "execution_count": null,
   "id": "8fb6f6e1",
   "metadata": {},
   "outputs": [],
   "source": [
    "import numpy as np\n",
    "import pandas as pd\n",
    "import os\n",
    "\n",
    "'''\n",
    "ATT: DseRoll-Roll / DesPitch-Pitch / DesYaw-Yaw\n",
    "PSCD: DVD-VD / TVD-VD / DAD-AD / TAD-AD\n",
    "PSCE: DVE-VE / TVE-VE / DAE-AE / TAE-AE\n",
    "PSCN: DVN-VN / TVN-VN / DAN-AN / TAN-AN\n",
    "RATE: RDes-R / PDes-P / YDes-Y \n",
    "'''\n",
    "\n",
    "def add_error_columns(error_pairs):\n",
    "    \"\"\"\n",
    "    df: DataFrame\n",
    "    error_pairs: list of tuples [(target_col, reference_col), ...]\n",
    "    결과: df에 (target - reference) 계산된 컬럼 추가\n",
    "    \"\"\"\n",
    "    save_path = '../0.data/merged_add_error'\n",
    "    os.makedirs(save_path, exist_ok=True)\n",
    "\n",
    "    for msg, pair_lst in error_pairs.items():\n",
    "        df = pd.read_csv(f'../0.data/results/{msg}_merged.csv')\n",
    "        \n",
    "        for target_col, reference_col in pair_lst:\n",
    "            if target_col in df.columns and reference_col in df.columns:\n",
    "                error_col = f\"{reference_col}_error\"\n",
    "                df[error_col] = df[target_col] - df[reference_col]\n",
    "            else:\n",
    "                print(f\"[SKIP] {target_col} or {reference_col} not in DataFrame\")\n",
    "\n",
    "        df.to_csv(os.path.join(save_path, f'{msg}_merged_add_ecol.csv'))\n",
    "        \n",
    "\n"
   ]
  },
  {
   "cell_type": "code",
   "execution_count": 6,
   "id": "dac89af7",
   "metadata": {},
   "outputs": [],
   "source": [
    "error_pairs = {\n",
    "    'ATT': [(\"DesRoll\", \"Roll\"), (\"DesPitch\", \"Pitch\"), (\"DesYaw\", \"Yaw\")],\n",
    "    'RATE': [(\"RDes\", \"R\"), (\"PDes\", \"P\"), (\"YDes\", \"Y\")],\n",
    "    'PSCD': [(\"DVD\", \"VD\"), (\"TVD\", \"VD\"), (\"DAD\", \"AD\"), (\"TAD\", \"AD\")],\n",
    "    'PSCE': [(\"DVE\", \"VE\"), (\"TVE\", \"VE\"), (\"DAE\", \"AE\"), (\"TAE\", \"AE\")],\n",
    "    'PSCN': [(\"DVN\", \"VN\"), (\"TVN\", \"VN\"), (\"DAN\", \"AN\"), (\"TAN\", \"AN\")]\n",
    "}\n",
    "\n",
    "# 사용 예시\n",
    "add_error_columns(error_pairs)\n"
   ]
  },
  {
   "cell_type": "code",
   "execution_count": null,
   "id": "7e3084f9",
   "metadata": {},
   "outputs": [],
   "source": []
  }
 ],
 "metadata": {
  "kernelspec": {
   "display_name": "drone",
   "language": "python",
   "name": "python3"
  },
  "language_info": {
   "codemirror_mode": {
    "name": "ipython",
    "version": 3
   },
   "file_extension": ".py",
   "mimetype": "text/x-python",
   "name": "python",
   "nbconvert_exporter": "python",
   "pygments_lexer": "ipython3",
   "version": "3.11.11"
  }
 },
 "nbformat": 4,
 "nbformat_minor": 5
}
