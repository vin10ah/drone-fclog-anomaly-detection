{
 "cells": [
  {
   "cell_type": "code",
   "execution_count": 1,
   "id": "370b31f4",
   "metadata": {},
   "outputs": [],
   "source": [
    "import numpy as np\n",
    "import pandas as pd"
   ]
  },
  {
   "cell_type": "code",
   "execution_count": 5,
   "id": "c2f1cdda",
   "metadata": {},
   "outputs": [],
   "source": [
    "dict = {\n",
    "    12596: ['CANS', 'HEAT'],\n",
    "    25194: ['XKV1', 'XKV2'],\n",
    "    62989: ['GPA', 'GPS'],\n",
    "    125500: ['PSCE', 'PSCN'],\n",
    "    125963: ['BARO', 'CTUN', 'FTN1'],\n",
    "    125968: ['BAT', 'MAG', 'MCU', 'POWR'],\n",
    "    125971: ['AHR2', 'MOTB', 'POS', 'PSCD', 'RCOU', 'VIBE'],\n",
    "    125972: ['XKF1', 'XKF2', 'XKF3', 'XKF5', 'XKQ']\n",
    "}"
   ]
  },
  {
   "cell_type": "code",
   "execution_count": 13,
   "id": "b8bf1721",
   "metadata": {},
   "outputs": [
    {
     "data": {
      "text/plain": [
       "'CANS_HEAT'"
      ]
     },
     "execution_count": 13,
     "metadata": {},
     "output_type": "execute_result"
    }
   ],
   "source": [
    "'_'.join(dict[12596])"
   ]
  },
  {
   "cell_type": "code",
   "execution_count": 7,
   "id": "3e1de355",
   "metadata": {},
   "outputs": [
    {
     "name": "stdout",
     "output_type": "stream",
     "text": [
      "12596 [6359, 6359]\n",
      "25194 [12719, 12719]\n",
      "62989 [31797, 31797]\n",
      "125500 [63593, 63593]\n",
      "125963 [63589, 63589, 63589]\n",
      "125968 [63591, 63591, 63591, 63591]\n",
      "125971 [63593, 63593, 63593, 63593, 63593, 63593]\n",
      "125972 [63593, 63593, 63593, 63593, 63593]\n"
     ]
    }
   ],
   "source": [
    "for counts, fields in dict.items():\n",
    "    lst = []\n",
    "    for field in fields:\n",
    "        df = pd.read_csv(f'../0.data/results/{field}_merged.csv')\n",
    "        lst.append(len(df.loc[df['label']==1]))\n",
    "\n",
    "    print(counts, lst)"
   ]
  },
  {
   "cell_type": "code",
   "execution_count": 8,
   "id": "87d04846",
   "metadata": {},
   "outputs": [
    {
     "name": "stdout",
     "output_type": "stream",
     "text": [
      "12596 [6237, 6237]\n",
      "25194 [12475, 12475]\n",
      "62989 [31192, 31192]\n",
      "125500 [61907, 61907]\n",
      "125963 [62374, 62374, 62374]\n",
      "125968 [62377, 62377, 62377, 62377]\n",
      "125971 [62378, 62378, 62378, 62378, 62378, 62378]\n",
      "125972 [62379, 62379, 62379, 62379, 62379]\n"
     ]
    }
   ],
   "source": [
    "for counts, fields in dict.items():\n",
    "    lst = []\n",
    "    for field in fields:\n",
    "        df = pd.read_csv(f'../0.data/results/{field}_merged.csv')\n",
    "        lst.append(len(df.loc[df['label']==0]))\n",
    "\n",
    "    print(counts, lst)"
   ]
  },
  {
   "cell_type": "code",
   "execution_count": 16,
   "id": "92eeb072",
   "metadata": {},
   "outputs": [
    {
     "name": "stdout",
     "output_type": "stream",
     "text": [
      "Saved: ../0.data/aligned_merged/CANS_HEAT_merged.csv  (Shape: (12596, 20))\n",
      "Saved: ../0.data/aligned_merged/XKV1_XKV2_merged.csv  (Shape: (25194, 27))\n",
      "Saved: ../0.data/aligned_merged/GPA_GPS_merged.csv  (Shape: (62989, 27))\n",
      "Saved: ../0.data/aligned_merged/PSCE_PSCN_merged.csv  (Shape: (125500, 17))\n",
      "Saved: ../0.data/aligned_merged/BARO_CTUN_FTN1_merged.csv  (Shape: (125963, 34))\n",
      "Saved: ../0.data/aligned_merged/BAT_MAG_MCU_POWR_merged.csv  (Shape: (125968, 33))\n",
      "Saved: ../0.data/aligned_merged/AHR2_MOTB_POS_PSCD_RCOU_VIBE_merged.csv  (Shape: (125971, 49))\n",
      "Saved: ../0.data/aligned_merged/XKF1_XKF2_XKF3_XKF5_XKQ_merged.csv  (Shape: (125972, 63))\n"
     ]
    }
   ],
   "source": [
    "import pandas as pd\n",
    "import os\n",
    "\n",
    "# 입력 딕셔너리\n",
    "field_dict = {\n",
    "    12596: ['CANS', 'HEAT'],\n",
    "    25194: ['XKV1', 'XKV2'],\n",
    "    62989: ['GPA', 'GPS'],\n",
    "    125500: ['PSCE', 'PSCN'],\n",
    "    125963: ['BARO', 'CTUN', 'FTN1'],\n",
    "    125968: ['BAT', 'MAG', 'MCU', 'POWR'],\n",
    "    125971: ['AHR2', 'MOTB', 'POS', 'PSCD', 'RCOU', 'VIBE'],\n",
    "    125972: ['XKF1', 'XKF2', 'XKF3', 'XKF5', 'XKQ']\n",
    "}\n",
    "\n",
    "input_dir = \"../0.data/results/\"\n",
    "output_dir = \"../0.data/aligned_merged/\"\n",
    "os.makedirs(output_dir, exist_ok=True)\n",
    "\n",
    "# 병합 루프\n",
    "for counts, fields in field_dict.items():\n",
    "    df_list = []\n",
    "\n",
    "    file_name = '_'.join(field_dict[counts])\n",
    "    \n",
    "    for i, field in enumerate(fields):\n",
    "        df = pd.read_csv(f'{input_dir}{field}_merged.csv')\n",
    "        df = df.drop(columns=['timestamp','TimeUS'], errors='ignore')\n",
    "        \n",
    "        # 라벨은 마지막 field에서만 유지\n",
    "        if i < len(fields) - 1:\n",
    "            df = df.drop(columns=['label'], errors='ignore')\n",
    "        \n",
    "        df_list.append(df)\n",
    "\n",
    "    # 열 기준 병합\n",
    "    merged_df = pd.concat(df_list, axis=1)\n",
    "    \n",
    "    # 저장\n",
    "    merged_df.to_csv(f'{output_dir}{counts}_{file_name}_merged.csv', index=False)\n",
    "    print(f\"Saved: {output_dir}{file_name}_merged.csv  (Shape: {merged_df.shape})\")\n"
   ]
  },
  {
   "cell_type": "code",
   "execution_count": null,
   "id": "69f35a7f",
   "metadata": {},
   "outputs": [],
   "source": []
  }
 ],
 "metadata": {
  "kernelspec": {
   "display_name": "drone",
   "language": "python",
   "name": "python3"
  },
  "language_info": {
   "codemirror_mode": {
    "name": "ipython",
    "version": 3
   },
   "file_extension": ".py",
   "mimetype": "text/x-python",
   "name": "python",
   "nbconvert_exporter": "python",
   "pygments_lexer": "ipython3",
   "version": "3.11.11"
  }
 },
 "nbformat": 4,
 "nbformat_minor": 5
}
